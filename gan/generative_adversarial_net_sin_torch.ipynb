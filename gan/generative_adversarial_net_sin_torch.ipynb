{
 "cells": [
  {
   "cell_type": "markdown",
   "metadata": {},
   "source": [
    "# Generative Adversarial Network for simple sinusoidal data\n",
    "Following the example from: <br>\n",
    "https://realpython.com/generative-adversarial-networks/"
   ]
  },
  {
   "cell_type": "code",
   "execution_count": 1,
   "metadata": {},
   "outputs": [],
   "source": [
    "import torch\n",
    "from torch import nn\n",
    "\n",
    "import math\n",
    "import matplotlib.pyplot as plt"
   ]
  },
  {
   "cell_type": "code",
   "execution_count": 2,
   "metadata": {},
   "outputs": [
    {
     "data": {
      "text/plain": [
       "<torch._C.Generator at 0x7f148383c630>"
      ]
     },
     "execution_count": 2,
     "metadata": {},
     "output_type": "execute_result"
    }
   ],
   "source": [
    "# generate random seed\n",
    "torch.manual_seed(111)"
   ]
  },
  {
   "cell_type": "markdown",
   "metadata": {},
   "source": [
    "### Prepare training data"
   ]
  },
  {
   "cell_type": "code",
   "execution_count": 3,
   "metadata": {},
   "outputs": [],
   "source": [
    "# The training data is composed of pairs (x₁, x₂) so that x₂\n",
    "# consists of the value of the sine of x₁ for x₁ in the interval from 0 to 2π.\n",
    "\n",
    "train_data_length = 1024\n",
    "train_data = torch.zeros((train_data_length, 2))\n",
    "train_data[:, 0] = 2 * math.pi * torch.rand(train_data_length)\n",
    "train_data[:, 1] = torch.sin(train_data[:, 0])\n",
    "train_labels = torch.zeros(train_data_length)\n",
    "train_set = [\n",
    "    (train_data[i], train_labels[i]) for i in range(train_data_length)\n",
    "]"
   ]
  },
  {
   "cell_type": "code",
   "execution_count": 4,
   "metadata": {},
   "outputs": [
    {
     "data": {
      "text/plain": [
       "[<matplotlib.lines.Line2D at 0x7f13924f8ee0>]"
      ]
     },
     "execution_count": 4,
     "metadata": {},
     "output_type": "execute_result"
    },
    {
     "data": {
      "image/png": "[encoded data removed]",
      "text/plain": [
       "<Figure size 432x288 with 1 Axes>"
      ]
     },
     "metadata": {
      "needs_background": "light"
     },
     "output_type": "display_data"
    }
   ],
   "source": [
    "plt.plot(train_data[:, 0], train_data[:, 1], \".\")"
   ]
  },
  {
   "cell_type": "code",
   "execution_count": 5,
   "metadata": {},
   "outputs": [],
   "source": [
    "# create a python dataloader\n",
    "batch_size = 32\n",
    "train_loader = torch.utils.data.DataLoader(\n",
    "    train_set, batch_size=batch_size, shuffle=True\n",
    ")"
   ]
  },
  {
   "cell_type": "markdown",
   "metadata": {},
   "source": [
    "### Build network"
   ]
  },
  {
   "cell_type": "code",
   "execution_count": 6,
   "metadata": {},
   "outputs": [],
   "source": [
    "# build discriminator network\n",
    "class Discriminator(nn.Module):\n",
    "    def __init__(self):\n",
    "        super().__init__()\n",
    "        self.model = nn.Sequential(\n",
    "            nn.Linear(2, 256),\n",
    "            nn.ReLU(),\n",
    "            nn.Dropout(0.3),\n",
    "            nn.Linear(256, 128),\n",
    "            nn.ReLU(),\n",
    "            nn.Dropout(0.3),\n",
    "            nn.Linear(128, 64),\n",
    "            nn.ReLU(),\n",
    "            nn.Dropout(0.3),\n",
    "            nn.Linear(64, 1),\n",
    "            nn.Sigmoid(),\n",
    "        )\n",
    "\n",
    "    def forward(self, x):\n",
    "        output = self.model(x)\n",
    "        return output"
   ]
  },
  {
   "cell_type": "code",
   "execution_count": 7,
   "metadata": {},
   "outputs": [],
   "source": [
    "# build generative network\n",
    "class Generator(nn.Module):\n",
    "    def __init__(self):\n",
    "        super().__init__()\n",
    "        self.model = nn.Sequential(\n",
    "            nn.Linear(2, 16),\n",
    "            nn.ReLU(),\n",
    "            nn.Linear(16, 32),\n",
    "            nn.ReLU(),\n",
    "            nn.Linear(32, 2),\n",
    "        )\n",
    "\n",
    "    def forward(self, x):\n",
    "        output = self.model(x)\n",
    "        return output"
   ]
  },
  {
   "cell_type": "markdown",
   "metadata": {},
   "source": [
    "### Train model"
   ]
  },
  {
   "cell_type": "code",
   "execution_count": 8,
   "metadata": {},
   "outputs": [],
   "source": [
    "# create discriminator and generator\n",
    "discriminator = Discriminator()\n",
    "generator = Generator()\n",
    "# hyperparameters\n",
    "lr = 0.001\n",
    "num_epochs = 300\n",
    "loss_function = nn.BCELoss()\n",
    "# optimizer\n",
    "optimizer_discriminator = torch.optim.Adam(discriminator.parameters(), lr=lr)\n",
    "optimizer_generator = torch.optim.Adam(generator.parameters(), lr=lr)"
   ]
  },
  {
   "cell_type": "code",
   "execution_count": 9,
   "metadata": {},
   "outputs": [
    {
     "name": "stdout",
     "output_type": "stream",
     "text": [
      "Epoch: 0 Loss D.: 0.19106775522232056\n",
      "Epoch: 0 Loss G.: 1.8886789083480835\n",
      "Epoch: 10 Loss D.: 0.6593940854072571\n",
      "Epoch: 10 Loss G.: 0.9345511198043823\n",
      "Epoch: 20 Loss D.: 0.7037724852561951\n",
      "Epoch: 20 Loss G.: 0.8252997398376465\n",
      "Epoch: 30 Loss D.: 0.5847079157829285\n",
      "Epoch: 30 Loss G.: 1.0379650592803955\n",
      "Epoch: 40 Loss D.: 0.6499709486961365\n",
      "Epoch: 40 Loss G.: 0.7380998134613037\n",
      "Epoch: 50 Loss D.: 0.6576102375984192\n",
      "Epoch: 50 Loss G.: 0.6966965198516846\n",
      "Epoch: 60 Loss D.: 0.6608182191848755\n",
      "Epoch: 60 Loss G.: 0.6863024234771729\n",
      "Epoch: 70 Loss D.: 0.6956440210342407\n",
      "Epoch: 70 Loss G.: 0.6437080502510071\n",
      "Epoch: 80 Loss D.: 0.7065955996513367\n",
      "Epoch: 80 Loss G.: 0.6857181787490845\n",
      "Epoch: 90 Loss D.: 0.6651331782341003\n",
      "Epoch: 90 Loss G.: 0.6882128715515137\n",
      "Epoch: 100 Loss D.: 0.702793300151825\n",
      "Epoch: 100 Loss G.: 0.824127733707428\n",
      "Epoch: 110 Loss D.: 0.7003846168518066\n",
      "Epoch: 110 Loss G.: 0.744504451751709\n",
      "Epoch: 120 Loss D.: 0.6606516242027283\n",
      "Epoch: 120 Loss G.: 0.7405065298080444\n",
      "Epoch: 130 Loss D.: 0.7158652544021606\n",
      "Epoch: 130 Loss G.: 0.6555771231651306\n",
      "Epoch: 140 Loss D.: 0.6945108771324158\n",
      "Epoch: 140 Loss G.: 0.7153050303459167\n",
      "Epoch: 150 Loss D.: 0.5891527533531189\n",
      "Epoch: 150 Loss G.: 0.8952021598815918\n",
      "Epoch: 160 Loss D.: 0.6382908821105957\n",
      "Epoch: 160 Loss G.: 0.7984229326248169\n",
      "Epoch: 170 Loss D.: 0.6605770587921143\n",
      "Epoch: 170 Loss G.: 0.8823593854904175\n",
      "Epoch: 180 Loss D.: 0.7256051898002625\n",
      "Epoch: 180 Loss G.: 0.6892778873443604\n",
      "Epoch: 190 Loss D.: 0.7708448171615601\n",
      "Epoch: 190 Loss G.: 0.7231391668319702\n",
      "Epoch: 200 Loss D.: 0.7049940824508667\n",
      "Epoch: 200 Loss G.: 0.8351758122444153\n",
      "Epoch: 210 Loss D.: 0.6872333288192749\n",
      "Epoch: 210 Loss G.: 0.8571122288703918\n",
      "Epoch: 220 Loss D.: 0.6812036633491516\n",
      "Epoch: 220 Loss G.: 0.7834045886993408\n",
      "Epoch: 230 Loss D.: 0.6898595690727234\n",
      "Epoch: 230 Loss G.: 0.7905114889144897\n",
      "Epoch: 240 Loss D.: 0.6814430952072144\n",
      "Epoch: 240 Loss G.: 0.8113467693328857\n",
      "Epoch: 250 Loss D.: 0.650689959526062\n",
      "Epoch: 250 Loss G.: 0.9443528056144714\n",
      "Epoch: 260 Loss D.: 0.6970716714859009\n",
      "Epoch: 260 Loss G.: 1.0542857646942139\n",
      "Epoch: 270 Loss D.: 0.6352863311767578\n",
      "Epoch: 270 Loss G.: 0.7465789914131165\n",
      "Epoch: 280 Loss D.: 0.7327713966369629\n",
      "Epoch: 280 Loss G.: 0.8256879448890686\n",
      "Epoch: 290 Loss D.: 0.7448245882987976\n",
      "Epoch: 290 Loss G.: 0.7427638173103333\n"
     ]
    }
   ],
   "source": [
    "# start the training loop\n",
    "for epoch in range(num_epochs):\n",
    "    for n, (real_samples, _) in enumerate(train_loader):\n",
    "        # Data for training the discriminator\n",
    "        real_samples_labels = torch.ones((batch_size, 1))\n",
    "        latent_space_samples = torch.randn((batch_size, 2))\n",
    "        generated_samples = generator(latent_space_samples)\n",
    "        generated_samples_labels = torch.zeros((batch_size, 1))\n",
    "        all_samples = torch.cat((real_samples, generated_samples))\n",
    "        all_samples_labels = torch.cat(\n",
    "            (real_samples_labels, generated_samples_labels)\n",
    "        )\n",
    "\n",
    "        # Training the discriminator\n",
    "        discriminator.zero_grad()\n",
    "        output_discriminator = discriminator(all_samples)\n",
    "        loss_discriminator = loss_function(\n",
    "            output_discriminator, all_samples_labels)\n",
    "        loss_discriminator.backward()\n",
    "        optimizer_discriminator.step()\n",
    "\n",
    "        # Data for training the generator\n",
    "        latent_space_samples = torch.randn((batch_size, 2))\n",
    "\n",
    "        # Training the generator\n",
    "        generator.zero_grad()\n",
    "        generated_samples = generator(latent_space_samples)\n",
    "        output_discriminator_generated = discriminator(generated_samples)\n",
    "        loss_generator = loss_function(\n",
    "            output_discriminator_generated, real_samples_labels\n",
    "        )\n",
    "        loss_generator.backward()\n",
    "        optimizer_generator.step()\n",
    "\n",
    "        # Show loss\n",
    "        if epoch % 10 == 0 and n == batch_size - 1:\n",
    "            print(f\"Epoch: {epoch} Loss D.: {loss_discriminator}\")\n",
    "            print(f\"Epoch: {epoch} Loss G.: {loss_generator}\")"
   ]
  },
  {
   "cell_type": "markdown",
   "metadata": {},
   "source": [
    "### Checking the Samples Generated by the GAN"
   ]
  },
  {
   "cell_type": "code",
   "execution_count": 10,
   "metadata": {},
   "outputs": [],
   "source": [
    "# sample latent space\n",
    "latent_space_samples = torch.randn(100, 2)\n",
    "generated_samples = generator(latent_space_samples)"
   ]
  },
  {
   "cell_type": "code",
   "execution_count": 11,
   "metadata": {},
   "outputs": [
    {
     "data": {
      "text/plain": [
       "[<matplotlib.lines.Line2D at 0x7f1392410a60>]"
      ]
     },
     "execution_count": 11,
     "metadata": {},
     "output_type": "execute_result"
    },
    {
     "data": {
      "image/png": "[encoded data removed]",
      "text/plain": [
       "<Figure size 432x288 with 1 Axes>"
      ]
     },
     "metadata": {
      "needs_background": "light"
     },
     "output_type": "display_data"
    }
   ],
   "source": [
    "generated_samples = generated_samples.detach()\n",
    "plt.plot(generated_samples[:, 0], generated_samples[:, 1], \".\")"
   ]
  }
 ],
 "metadata": {
  "interpreter": {
   "hash": "e7604e8ec5f09e490e10161e37a4725039efd3ab703d81b1b8a1e00d6741866c"
  },
  "kernelspec": {
   "display_name": "Python 3.9.5 ('base')",
   "language": "python",
   "name": "python3"
  },
  "language_info": {
   "codemirror_mode": {
    "name": "ipython",
    "version": 3
   },
   "file_extension": ".py",
   "mimetype": "text/x-python",
   "name": "python",
   "nbconvert_exporter": "python",
   "pygments_lexer": "ipython3",
   "version": "3.9.5"
  },
  "orig_nbformat": 4
 },
 "nbformat": 4,
 "nbformat_minor": 2
}
