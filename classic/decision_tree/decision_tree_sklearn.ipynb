{
 "cells": [
  {
   "cell_type": "markdown",
   "metadata": {},
   "source": [
    "### Implement decision tree\n",
    "Use decision tree to solve the Balance Scale Weight & Distance Database problem.<br>\n",
    "Following the example from: <br>\n",
    "https://www.geeksforgeeks.org/decision-tree-implementation-python/ <br>\n",
    "Link to the dataset: <br>\n",
    "https://archive.ics.uci.edu/ml/machine-learning-databases/balance-scale/\n"
   ]
  },
  {
   "cell_type": "code",
   "execution_count": 1,
   "metadata": {},
   "outputs": [],
   "source": [
    "import numpy as np\n",
    "import pandas as pd\n",
    "from sklearn.metrics import confusion_matrix\n",
    "from sklearn.model_selection import train_test_split\n",
    "from sklearn.tree import DecisionTreeClassifier\n",
    "from sklearn.metrics import accuracy_score\n",
    "from sklearn.metrics import classification_report"
   ]
  },
  {
   "cell_type": "code",
   "execution_count": null,
   "metadata": {},
   "outputs": [],
   "source": [
    "# Download and loda data\n",
    "balance_data = pd.read_csv(\n",
    "'https://archive.ics.uci.edu/ml/machine-learning-'+\n",
    "'databases/balance-scale/balance-scale.data',\n",
    "sep= ',', header = None)\n",
    "\n",
    "# Printing the dataset shape\n",
    "print (\"Dataset Length: \", len(balance_data))\n",
    "print (\"Dataset Shape: \", balance_data.shape)\n",
    "\n",
    "# Printing the dataset obseravtions\n",
    "print (\"Dataset: \",balance_data.head())"
   ]
  }
 ],
 "metadata": {
  "interpreter": {
   "hash": "951e587de391aa2bb289e8fbd39b65d4ffaa4789dc01c18d4fc05216cb0e7d1f"
  },
  "kernelspec": {
   "display_name": "Python 3.8.13 ('ml')",
   "language": "python",
   "name": "python3"
  },
  "language_info": {
   "codemirror_mode": {
    "name": "ipython",
    "version": 3
   },
   "file_extension": ".py",
   "mimetype": "text/x-python",
   "name": "python",
   "nbconvert_exporter": "python",
   "pygments_lexer": "ipython3",
   "version": "3.8.13"
  },
  "orig_nbformat": 4
 },
 "nbformat": 4,
 "nbformat_minor": 2
}
