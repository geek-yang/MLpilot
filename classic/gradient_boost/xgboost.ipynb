{
 "cells": [
  {
   "cell_type": "markdown",
   "metadata": {},
   "source": [
    "# XGBoost for Time Series Forecasting\n",
    "\n",
    "Following the example from: <br>\n",
    "https://machinelearningmastery.com/xgboost-for-time-series-forecasting/"
   ]
  }
 ],
 "metadata": {
  "language_info": {
   "name": "python"
  },
  "orig_nbformat": 4
 },
 "nbformat": 4,
 "nbformat_minor": 2
}
