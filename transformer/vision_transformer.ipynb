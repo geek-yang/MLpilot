{
 "cells": [
  {
   "attachments": {},
   "cell_type": "markdown",
   "metadata": {},
   "source": [
    "## Variational Autoencoder using pytorch\n",
    "\n",
    "Following the example from: <br>\n",
    "https://lightning.ai/docs/pytorch/stable/notebooks/course_UvA-DL/11-vision-transformer.html"
   ]
  },
  {
   "cell_type": "code",
   "execution_count": null,
   "metadata": {},
   "outputs": [],
   "source": [
    "import os\n",
    "import urllib.request\n",
    "from urllib.error import HTTPError\n",
    "\n",
    "import lightning as L"
   ]
  }
 ],
 "metadata": {
  "kernelspec": {
   "display_name": "ml",
   "language": "python",
   "name": "python3"
  },
  "language_info": {
   "name": "python",
   "version": "3.10.13"
  },
  "orig_nbformat": 4,
  "vscode": {
   "interpreter": {
    "hash": "147cbc8d72759dd0a0a593dfaabb7df181172d68ff884ea35c977c7e466c1a88"
   }
  }
 },
 "nbformat": 4,
 "nbformat_minor": 2
}
