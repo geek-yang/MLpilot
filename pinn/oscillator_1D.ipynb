{
 "cells": [
  {
   "attachments": {},
   "cell_type": "markdown",
   "metadata": {},
   "source": [
    "### Example of PINN with 1D oscillatior.\n",
    "This is an example of PINN and its application to simple physical use case. <br>\n",
    "In a nutshell, PINN takes equations in the loss as physical constraint to the training of neural network, which increases the physical awareness of the neural network.\n",
    "\n",
    "Here is a nice blog post about this topic: <br>\n",
    "https://benmoseley.blog/my-research/so-what-is-a-physics-informed-neural-network/\n",
    "\n",
    "This notebook is inspired by the following work:\n",
    "https://github.com/benmoseley/harmonic-oscillator-pinn"
   ]
  },
  {
   "cell_type": "code",
   "execution_count": null,
   "metadata": {},
   "outputs": [],
   "source": [
    "import numpy as np\n",
    "import torch\n",
    "import torch.nn as nn\n",
    "import matplotlib.pyplot as plt"
   ]
  },
  {
   "cell_type": "markdown",
   "metadata": {},
   "source": [
    "#### Definition of a 1D underdamped harmonic oscillator\n"
   ]
  },
  {
   "cell_type": "code",
   "execution_count": null,
   "metadata": {},
   "outputs": [],
   "source": [
    "def oscillator(d, w0, x):\n",
    "    \"\"\"Defines the analytical solution to the 1D underdamped harmonic oscillator problem.\"\"\"\n",
    "    assert d < w0\n",
    "    w = np.sqrt(w0**2-d**2)\n",
    "    phi = np.arctan(-d/w)\n",
    "    A = 1/(2*np.cos(phi))\n",
    "    cos = torch.cos(phi+w*x)\n",
    "    sin = torch.sin(phi+w*x)\n",
    "    exp = torch.exp(-d*x)\n",
    "    y  = exp*2*A*cos\n",
    "    return y"
   ]
  }
 ],
 "metadata": {
  "language_info": {
   "name": "python"
  },
  "orig_nbformat": 4
 },
 "nbformat": 4,
 "nbformat_minor": 2
}
