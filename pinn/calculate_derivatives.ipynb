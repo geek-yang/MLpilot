{
 "cells": [
  {
   "attachments": {},
   "cell_type": "markdown",
   "metadata": {},
   "source": [
    "### Basis of PINN: calculate derivatives in pytorch\n",
    "The essence of Physics Informed Neural Networks is including physical differential equations in the loss function. In other words, PINN takes equations in the loss as physical constraint to the training of neural network, which increases the physical awareness of the neural network.\n",
    "\n",
    "Pytorch supports calculation of derivatives, which makes the construction of PINN much easier. In this notebook, we will use a few examples to show how to calculate derivatives and include them in the computational graph of pytorch.\n",
    "\n",
    "This notebook is inspired by the following blog: <br>\n",
    "https://machinelearningmastery.com/calculating-derivatives-in-pytorch/"
   ]
  },
  {
   "cell_type": "code",
   "execution_count": 1,
   "metadata": {},
   "outputs": [],
   "source": [
    "import matplotlib.pyplot as plt\n",
    "import torch"
   ]
  },
  {
   "cell_type": "code",
   "execution_count": null,
   "metadata": {},
   "outputs": [],
   "source": []
  }
 ],
 "metadata": {
  "kernelspec": {
   "display_name": "Python 3",
   "language": "python",
   "name": "python3"
  },
  "language_info": {
   "codemirror_mode": {
    "name": "ipython",
    "version": 3
   },
   "file_extension": ".py",
   "mimetype": "text/x-python",
   "name": "python",
   "nbconvert_exporter": "python",
   "pygments_lexer": "ipython3",
   "version": "3.10.9"
  },
  "orig_nbformat": 4,
  "vscode": {
   "interpreter": {
    "hash": "b197f2d146ba9dade075c512c2d967b6caa99253af0cd5aa569ca8174c9a813e"
   }
  }
 },
 "nbformat": 4,
 "nbformat_minor": 2
}
