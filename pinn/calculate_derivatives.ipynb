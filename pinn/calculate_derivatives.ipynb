{
 "cells": [
  {
   "attachments": {},
   "cell_type": "markdown",
   "metadata": {},
   "source": [
    "### Basis of PINN: calculate derivatives in pytorch\n",
    "The essence of Physics Informed Neural Networks is including physical differential equations in the loss function. In other words, PINN takes equations in the loss as physical constraint to the training of neural network, which increases the physical awareness of the neural network.\n",
    "\n",
    "Pytorch supports calculation of derivatives, which makes the construction of PINN much easier. In this notebook, we will use a few examples to show how to calculate derivatives and include them in the computational graph of pytorch.\n",
    "\n",
    "This notebook is inspired by the following blog: <br>\n",
    "https://machinelearningmastery.com/calculating-derivatives-in-pytorch/"
   ]
  },
  {
   "cell_type": "code",
   "execution_count": 1,
   "metadata": {},
   "outputs": [],
   "source": [
    "import matplotlib.pyplot as plt\n",
    "import torch"
   ]
  },
  {
   "cell_type": "markdown",
   "metadata": {},
   "source": [
    "First a very simple example about the Auto Differentiation feature of pytorch."
   ]
  },
  {
   "cell_type": "code",
   "execution_count": 2,
   "metadata": {},
   "outputs": [
    {
     "name": "stdout",
     "output_type": "stream",
     "text": [
      "Initialize a tensor x tensor(2., requires_grad=True)\n",
      "Calculate derivatives of y (equation) at x=2.0 tensor(20.)\n"
     ]
    }
   ],
   "source": [
    "x = torch.tensor(2.0, requires_grad = True)\n",
    "print(\"Initialize a tensor x\", x)\n",
    "y = 5 * x ** 2\n",
    "y.backward()\n",
    "print(\"Calculate derivatives of y (equation) at x=2.0\", x.grad)"
   ]
  },
  {
   "attachments": {},
   "cell_type": "markdown",
   "metadata": {},
   "source": [
    "#### Computational graph\n",
    "Pytorch performs backpropagation via the computational graph, in which tensors and backward functions are treated as nodes on the graph.\n",
    "\n",
    "It computes the derivative of a tensor depending on whether it is a leaf node or not.\n",
    "\n",
    "Now let's take a look at the related properties of a tensor class:"
   ]
  },
  {
   "cell_type": "code",
   "execution_count": 3,
   "metadata": {},
   "outputs": [
    {
     "name": "stdout",
     "output_type": "stream",
     "text": [
      "data attribute of the tensor: tensor(2.)\n",
      "grad attribute of the tensor:: tensor(20.)\n",
      "grad_fn attribute of the tensor:: None\n",
      "is_leaf attribute of the tensor:: True\n",
      "requires_grad attribute of the tensor:: True\n"
     ]
    }
   ],
   "source": [
    "print('data attribute of the tensor:',x.data)\n",
    "print('grad attribute of the tensor::',x.grad)\n",
    "print('grad_fn attribute of the tensor::',x.grad_fn)\n",
    "print(\"is_leaf attribute of the tensor::\",x.is_leaf)\n",
    "print(\"requires_grad attribute of the tensor::\",x.requires_grad)"
   ]
  },
  {
   "cell_type": "markdown",
   "metadata": {},
   "source": [
    "We can increase the complexity of the function."
   ]
  },
  {
   "cell_type": "code",
   "execution_count": 4,
   "metadata": {},
   "outputs": [
    {
     "name": "stdout",
     "output_type": "stream",
     "text": [
      "Initialize a tensor x tensor(4., requires_grad=True)\n",
      "Calculate derivatives of y (equation) at x=4.0 tensor(31.)\n"
     ]
    }
   ],
   "source": [
    "x = torch.tensor(4.0, requires_grad = True)\n",
    "print(\"Initialize a tensor x\", x)\n",
    "y = 3 * x ** 2 + 7 * x + 3\n",
    "y.backward()\n",
    "print(\"Calculate derivatives of y (equation) at x=4.0\", x.grad)"
   ]
  },
  {
   "cell_type": "markdown",
   "metadata": {},
   "source": [
    "Pytorch can take care of partial differentials as well."
   ]
  },
  {
   "cell_type": "code",
   "execution_count": 5,
   "metadata": {},
   "outputs": [
    {
     "name": "stdout",
     "output_type": "stream",
     "text": [
      "Initialize a tensor x1 tensor(3., requires_grad=True)\n",
      "Initialize a tensor x2 tensor(2., requires_grad=True)\n",
      "Partial derivative w.r.t to x1 tensor(3.)\n",
      "Partial derivative w.r.t to x1 tensor(4.)\n"
     ]
    }
   ],
   "source": [
    "x1 = torch.tensor(3.0, requires_grad = True)\n",
    "x2 = torch.tensor(2.0, requires_grad = True)\n",
    "\n",
    "y = 3 * x1 + 4 * x2\n",
    "\n",
    "print(\"Initialize a tensor x1\", x1)\n",
    "print(\"Initialize a tensor x2\", x2)\n",
    "\n",
    "y.backward()\n",
    "\n",
    "print(\"Partial derivative w.r.t to x1\", x1.grad)\n",
    "print(\"Partial derivative w.r.t to x1\", x2.grad)"
   ]
  },
  {
   "attachments": {},
   "cell_type": "markdown",
   "metadata": {},
   "source": [
    "For a tensor with multiple values, Pytorch can also handle it, but..."
   ]
  },
  {
   "cell_type": "code",
   "execution_count": 7,
   "metadata": {},
   "outputs": [
    {
     "ename": "RuntimeError",
     "evalue": "grad can be implicitly created only for scalar outputs",
     "output_type": "error",
     "traceback": [
      "\u001b[0;31m---------------------------------------------------------------------------\u001b[0m",
      "\u001b[0;31mRuntimeError\u001b[0m                              Traceback (most recent call last)",
      "Cell \u001b[0;32mIn[7], line 3\u001b[0m\n\u001b[1;32m      1\u001b[0m x \u001b[39m=\u001b[39m torch\u001b[39m.\u001b[39mlinspace(\u001b[39m-\u001b[39m\u001b[39m20\u001b[39m, \u001b[39m20\u001b[39m, \u001b[39m20\u001b[39m, requires_grad \u001b[39m=\u001b[39m \u001b[39mTrue\u001b[39;00m)\n\u001b[1;32m      2\u001b[0m y \u001b[39m=\u001b[39m x \u001b[39m*\u001b[39m\u001b[39m*\u001b[39m \u001b[39m2\u001b[39m\n\u001b[0;32m----> 3\u001b[0m y\u001b[39m.\u001b[39;49mbackward()\n",
      "File \u001b[0;32m~/micromamba/envs/ai/lib/python3.10/site-packages/torch/_tensor.py:487\u001b[0m, in \u001b[0;36mTensor.backward\u001b[0;34m(self, gradient, retain_graph, create_graph, inputs)\u001b[0m\n\u001b[1;32m    477\u001b[0m \u001b[39mif\u001b[39;00m has_torch_function_unary(\u001b[39mself\u001b[39m):\n\u001b[1;32m    478\u001b[0m     \u001b[39mreturn\u001b[39;00m handle_torch_function(\n\u001b[1;32m    479\u001b[0m         Tensor\u001b[39m.\u001b[39mbackward,\n\u001b[1;32m    480\u001b[0m         (\u001b[39mself\u001b[39m,),\n\u001b[0;32m   (...)\u001b[0m\n\u001b[1;32m    485\u001b[0m         inputs\u001b[39m=\u001b[39minputs,\n\u001b[1;32m    486\u001b[0m     )\n\u001b[0;32m--> 487\u001b[0m torch\u001b[39m.\u001b[39;49mautograd\u001b[39m.\u001b[39;49mbackward(\n\u001b[1;32m    488\u001b[0m     \u001b[39mself\u001b[39;49m, gradient, retain_graph, create_graph, inputs\u001b[39m=\u001b[39;49minputs\n\u001b[1;32m    489\u001b[0m )\n",
      "File \u001b[0;32m~/micromamba/envs/ai/lib/python3.10/site-packages/torch/autograd/__init__.py:193\u001b[0m, in \u001b[0;36mbackward\u001b[0;34m(tensors, grad_tensors, retain_graph, create_graph, grad_variables, inputs)\u001b[0m\n\u001b[1;32m    189\u001b[0m inputs \u001b[39m=\u001b[39m (inputs,) \u001b[39mif\u001b[39;00m \u001b[39misinstance\u001b[39m(inputs, torch\u001b[39m.\u001b[39mTensor) \u001b[39melse\u001b[39;00m \\\n\u001b[1;32m    190\u001b[0m     \u001b[39mtuple\u001b[39m(inputs) \u001b[39mif\u001b[39;00m inputs \u001b[39mis\u001b[39;00m \u001b[39mnot\u001b[39;00m \u001b[39mNone\u001b[39;00m \u001b[39melse\u001b[39;00m \u001b[39mtuple\u001b[39m()\n\u001b[1;32m    192\u001b[0m grad_tensors_ \u001b[39m=\u001b[39m _tensor_or_tensors_to_tuple(grad_tensors, \u001b[39mlen\u001b[39m(tensors))\n\u001b[0;32m--> 193\u001b[0m grad_tensors_ \u001b[39m=\u001b[39m _make_grads(tensors, grad_tensors_, is_grads_batched\u001b[39m=\u001b[39;49m\u001b[39mFalse\u001b[39;49;00m)\n\u001b[1;32m    194\u001b[0m \u001b[39mif\u001b[39;00m retain_graph \u001b[39mis\u001b[39;00m \u001b[39mNone\u001b[39;00m:\n\u001b[1;32m    195\u001b[0m     retain_graph \u001b[39m=\u001b[39m create_graph\n",
      "File \u001b[0;32m~/micromamba/envs/ai/lib/python3.10/site-packages/torch/autograd/__init__.py:88\u001b[0m, in \u001b[0;36m_make_grads\u001b[0;34m(outputs, grads, is_grads_batched)\u001b[0m\n\u001b[1;32m     86\u001b[0m \u001b[39mif\u001b[39;00m out\u001b[39m.\u001b[39mrequires_grad:\n\u001b[1;32m     87\u001b[0m     \u001b[39mif\u001b[39;00m out\u001b[39m.\u001b[39mnumel() \u001b[39m!=\u001b[39m \u001b[39m1\u001b[39m:\n\u001b[0;32m---> 88\u001b[0m         \u001b[39mraise\u001b[39;00m \u001b[39mRuntimeError\u001b[39;00m(\u001b[39m\"\u001b[39m\u001b[39mgrad can be implicitly created only for scalar outputs\u001b[39m\u001b[39m\"\u001b[39m)\n\u001b[1;32m     89\u001b[0m     new_grads\u001b[39m.\u001b[39mappend(torch\u001b[39m.\u001b[39mones_like(out, memory_format\u001b[39m=\u001b[39mtorch\u001b[39m.\u001b[39mpreserve_format))\n\u001b[1;32m     90\u001b[0m \u001b[39melse\u001b[39;00m:\n",
      "\u001b[0;31mRuntimeError\u001b[0m: grad can be implicitly created only for scalar outputs"
     ]
    }
   ],
   "source": [
    "x = torch.linspace(-20, 20, 20, requires_grad = True)\n",
    "y = x ** 2\n",
    "y.backward()"
   ]
  },
  {
   "cell_type": "markdown",
   "metadata": {},
   "source": [
    "This error indicates that we can only run `.backward` (with no arguments) on a unitary/scalar tensor (i.e. a tensor with a single element.). Therefore, we need to make it a scalar tensor, e.g. adding a sum."
   ]
  },
  {
   "cell_type": "code",
   "execution_count": 8,
   "metadata": {},
   "outputs": [
    {
     "data": {
      "image/png": "[encoded data removed]",
      "text/plain": [
       "<Figure size 640x480 with 1 Axes>"
      ]
     },
     "metadata": {},
     "output_type": "display_data"
    }
   ],
   "source": [
    "# compute the derivative of the function with multiple values\n",
    "x = torch.linspace(-20, 20, 20, requires_grad = True)\n",
    "Y = x ** 2\n",
    "y = torch.sum(Y)\n",
    "y.backward()\n",
    " \n",
    "# ploting the function and derivative\n",
    "function_line, = plt.plot(x.detach().numpy(), Y.detach().numpy(), label = 'Function')\n",
    "function_line.set_color(\"red\")\n",
    "derivative_line, = plt.plot(x.detach().numpy(), x.grad.detach().numpy(), label = 'Derivative')\n",
    "derivative_line.set_color(\"green\")\n",
    "plt.xlabel('x')\n",
    "plt.legend()\n",
    "plt.show()"
   ]
  }
 ],
 "metadata": {
  "kernelspec": {
   "display_name": "Python 3",
   "language": "python",
   "name": "python3"
  },
  "language_info": {
   "codemirror_mode": {
    "name": "ipython",
    "version": 3
   },
   "file_extension": ".py",
   "mimetype": "text/x-python",
   "name": "python",
   "nbconvert_exporter": "python",
   "pygments_lexer": "ipython3",
   "version": "3.10.9"
  },
  "orig_nbformat": 4,
  "vscode": {
   "interpreter": {
    "hash": "b197f2d146ba9dade075c512c2d967b6caa99253af0cd5aa569ca8174c9a813e"
   }
  }
 },
 "nbformat": 4,
 "nbformat_minor": 2
}
