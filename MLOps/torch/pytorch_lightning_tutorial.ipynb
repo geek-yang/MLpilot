{
 "cells": [
  {
   "attachments": {},
   "cell_type": "markdown",
   "metadata": {},
   "source": [
    "Deep learning with PyTorch Lightning\n",
    "\n",
    "PyTorch Lightning makes the deep learning workflow even simpler by encapsulating more procedures into the module. Compared to pytorch, it also includes training loop, validation loop and configuration of optimizers.\n",
    "\n",
    "The PyTorch Lightning module hook includes:\n",
    "- Computational layer (model architecture)\n",
    "- Forward \n",
    "- Configure optimizers\n",
    "- Training step\n",
    "- Validation step\n",
    "\n",
    "Link to the tutorial: <br>\n",
    "https://lightning.ai/docs/pytorch/latest/starter/introduction.html"
   ]
  },
  {
   "cell_type": "code",
   "execution_count": null,
   "metadata": {},
   "outputs": [],
   "source": [
    "import os\n",
    "from torch import optim, nn, utils, Tensor\n",
    "from torchvision.datasets import MNIST\n",
    "from torchvision.transforms import ToTensor\n",
    "import lightning.pytorch as pl"
   ]
  }
 ],
 "metadata": {
  "language_info": {
   "name": "python"
  },
  "orig_nbformat": 4
 },
 "nbformat": 4,
 "nbformat_minor": 2
}
