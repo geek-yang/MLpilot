{
 "cells": [
  {
   "attachments": {},
   "cell_type": "markdown",
   "metadata": {},
   "source": [
    "# Introduction of PyG\n",
    "\n",
    "This notebook walks you through the basis of Pytorch geometric package.\n",
    "\n",
    "For more information, please check [this doc](https://pytorch-geometric.readthedocs.io/en/latest/get_started/introduction.html)"
   ]
  },
  {
   "cell_type": "markdown",
   "metadata": {},
   "source": [
    "Data handling of graphs."
   ]
  }
 ],
 "metadata": {
  "language_info": {
   "name": "python"
  },
  "orig_nbformat": 4
 },
 "nbformat": 4,
 "nbformat_minor": 2
}
